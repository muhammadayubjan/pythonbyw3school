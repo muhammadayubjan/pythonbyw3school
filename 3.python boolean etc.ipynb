{
 "cells": [
  {
   "cell_type": "code",
   "execution_count": 1,
   "id": "3b889045",
   "metadata": {},
   "outputs": [
    {
     "name": "stdout",
     "output_type": "stream",
     "text": [
      "True\n",
      "False\n",
      "False\n"
     ]
    }
   ],
   "source": [
    "# In programming you often need to know if an expression is True or False.\n",
    "\n",
    "# You can evaluate any expression in Python, and get one of two answers, True or False.\n",
    "\n",
    "# When you compare two values, the expression is evaluated and Python returns the Boolean answer:\n",
    "print(10 > 9)\n",
    "print(10 == 9)\n",
    "print(10 < 9)"
   ]
  },
  {
   "cell_type": "code",
   "execution_count": 2,
   "id": "0178a4b7",
   "metadata": {},
   "outputs": [
    {
     "name": "stdout",
     "output_type": "stream",
     "text": [
      "b is not greater than a\n"
     ]
    }
   ],
   "source": [
    "a = 200\n",
    "b = 33\n",
    "\n",
    "if b > a:\n",
    "  print(\"b is greater than a\")\n",
    "else:\n",
    "  print(\"b is not greater than a\")"
   ]
  },
  {
   "cell_type": "code",
   "execution_count": null,
   "id": "fb04e84f",
   "metadata": {},
   "outputs": [],
   "source": [
    "                          # Most Values are True  / true boolean conditions\n",
    "# Almost any value is evaluated to True if it has some sort of content.\n",
    "\n",
    "# Any string is True, except empty strings.\n",
    "\n",
    "# Any number is True, except 0.\n",
    "\n",
    "# Any list, tuple, set, and dictionary are True, except empty ones."
   ]
  },
  {
   "cell_type": "code",
   "execution_count": null,
   "id": "4922a3b2",
   "metadata": {},
   "outputs": [],
   "source": []
  },
  {
   "cell_type": "code",
   "execution_count": null,
   "id": "ae84947b",
   "metadata": {},
   "outputs": [],
   "source": [
    "                            #all false boolean\n",
    "# bool(False)\n",
    "# bool(None)\n",
    "# bool(0)\n",
    "# bool(\"\")\n",
    "# bool(())\n",
    "# bool([])\n",
    "# bool({})"
   ]
  },
  {
   "cell_type": "code",
   "execution_count": 5,
   "id": "4273f3d3",
   "metadata": {},
   "outputs": [
    {
     "name": "stdout",
     "output_type": "stream",
     "text": [
      "YES!\n"
     ]
    }
   ],
   "source": [
    "# Print \"YES!\" if the function returns True, otherwise print \"NO!\":\n",
    "\n",
    "def myFunction() :\n",
    "  return True\n",
    "\n",
    "if myFunction():\n",
    "  print(\"YES!\")\n",
    "else:\n",
    "  print(\"NO!\")"
   ]
  },
  {
   "cell_type": "code",
   "execution_count": null,
   "id": "8fa9d688",
   "metadata": {},
   "outputs": [],
   "source": []
  }
 ],
 "metadata": {
  "kernelspec": {
   "display_name": "Python 3",
   "language": "python",
   "name": "python3"
  },
  "language_info": {
   "codemirror_mode": {
    "name": "ipython",
    "version": 3
   },
   "file_extension": ".py",
   "mimetype": "text/x-python",
   "name": "python",
   "nbconvert_exporter": "python",
   "pygments_lexer": "ipython3",
   "version": "3.8.8"
  }
 },
 "nbformat": 4,
 "nbformat_minor": 5
}

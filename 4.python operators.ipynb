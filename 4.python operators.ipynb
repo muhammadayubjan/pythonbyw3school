{
 "cells": [
  {
   "cell_type": "code",
   "execution_count": null,
   "id": "41d599a6",
   "metadata": {},
   "outputs": [],
   "source": [
    "# Python Operators\n",
    "# Operators are used to perform operations on variables and values."
   ]
  },
  {
   "cell_type": "code",
   "execution_count": 1,
   "id": "dd06b4bf",
   "metadata": {},
   "outputs": [
    {
     "name": "stdout",
     "output_type": "stream",
     "text": [
      "15\n"
     ]
    }
   ],
   "source": [
    "print(10 + 5) #just change the sign for all + , - , * , / , // , ** , %"
   ]
  },
  {
   "cell_type": "code",
   "execution_count": null,
   "id": "e0fcb254",
   "metadata": {},
   "outputs": [],
   "source": [
    "# all detail in screen shots"
   ]
  }
 ],
 "metadata": {
  "kernelspec": {
   "display_name": "Python 3",
   "language": "python",
   "name": "python3"
  },
  "language_info": {
   "codemirror_mode": {
    "name": "ipython",
    "version": 3
   },
   "file_extension": ".py",
   "mimetype": "text/x-python",
   "name": "python",
   "nbconvert_exporter": "python",
   "pygments_lexer": "ipython3",
   "version": "3.8.8"
  }
 },
 "nbformat": 4,
 "nbformat_minor": 5
}
